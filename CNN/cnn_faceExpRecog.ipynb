{
 "cells": [
  {
   "cell_type": "code",
   "execution_count": 1,
   "metadata": {},
   "outputs": [
    {
     "data": {
      "text/plain": [
       "'2.4.1'"
      ]
     },
     "execution_count": 1,
     "metadata": {},
     "output_type": "execute_result"
    }
   ],
   "source": [
    "import tensorflow as tf\n",
    "import keras\n",
    "from tensorflow.keras.preprocessing.image import ImageDataGenerator\n",
    "from keras.models import Sequential\n",
    "from keras.layers import Dense,Dropout,Activation,Flatten,BatchNormalization\n",
    "from keras.layers import Conv2D,MaxPooling2D \n",
    "import numpy as np\n",
    "import PIL\n",
    "tf.__version__\n",
    "\n",
    "#dataset - https://drive.google.com/file/d/1iQ3BgBx031F0qSUm-geAzwbNx1GY4gEQ/view"
   ]
  },
  {
   "cell_type": "code",
   "execution_count": 2,
   "metadata": {},
   "outputs": [],
   "source": [
    "training_datagen = ImageDataGenerator(rescale=1./255,\n",
    "                                      rotation_range=30,\n",
    "                                      horizontal_flip=True,\n",
    "                                      vertical_flip=True,\n",
    "                                      shear_range=0.2,\n",
    "                                      zoom_range=0.2,\n",
    "                                      height_shift_range=0.2,\n",
    "                                      width_shift_range=0.2,)\n",
    "\n",
    "\n",
    "validation_datagen = ImageDataGenerator(rescale=1./255)"
   ]
  },
  {
   "cell_type": "code",
   "execution_count": 3,
   "metadata": {},
   "outputs": [
    {
     "name": "stdout",
     "output_type": "stream",
     "text": [
      "Found 24282 images belonging to 5 classes.\n",
      "Found 5937 images belonging to 5 classes.\n"
     ]
    }
   ],
   "source": [
    "train = training_datagen.flow_from_directory(\"./FaceExpressionRecog/train\", \n",
    "                                            target_size = (48, 48),\n",
    "                                            color_mode='grayscale',\n",
    "                                            class_mode='categorical',\n",
    "                                            batch_size=32,\n",
    "                                            shuffle=True)\n",
    "#256x256 is default\n",
    "\n",
    "val = validation_datagen.flow_from_directory(\"./FaceExpressionRecog/validation\", \n",
    "                                            target_size = (48, 48),\n",
    "                                            color_mode='grayscale',\n",
    "                                            class_mode='categorical',\n",
    "                                            batch_size=32)"
   ]
  },
  {
   "cell_type": "code",
   "execution_count": 4,
   "metadata": {},
   "outputs": [],
   "source": [
    "img_rows, img_cols = 48, 48\n",
    "\n",
    "model = Sequential()\n",
    "\n",
    "model.add(Conv2D(32,(3,3),padding='same',kernel_initializer='he_normal',input_shape=(img_rows,img_cols,1)))\n",
    "model.add(Activation('elu'))\n",
    "model.add(BatchNormalization())\n",
    "model.add(Conv2D(32,(3,3),padding='same',kernel_initializer='he_normal',input_shape=(img_rows,img_cols,1)))\n",
    "model.add(Activation('elu'))\n",
    "model.add(BatchNormalization())\n",
    "model.add(MaxPooling2D(pool_size=(2,2)))\n",
    "model.add(Dropout(0.2))"
   ]
  },
  {
   "cell_type": "code",
   "execution_count": 5,
   "metadata": {},
   "outputs": [],
   "source": [
    "model.add(Conv2D(64,(3,3),padding='same',kernel_initializer='he_normal'))\n",
    "model.add(Activation('elu'))\n",
    "model.add(BatchNormalization())\n",
    "model.add(Conv2D(64,(3,3),padding='same',kernel_initializer='he_normal'))\n",
    "model.add(Activation('elu'))\n",
    "model.add(BatchNormalization())\n",
    "model.add(MaxPooling2D(pool_size=(2,2)))\n",
    "model.add(Dropout(0.2))"
   ]
  },
  {
   "cell_type": "code",
   "execution_count": 6,
   "metadata": {},
   "outputs": [],
   "source": [
    "model.add(Conv2D(128,(3,3),padding='same',kernel_initializer='he_normal'))\n",
    "model.add(Activation('elu'))\n",
    "model.add(BatchNormalization())\n",
    "model.add(Conv2D(128,(3,3),padding='same',kernel_initializer='he_normal'))\n",
    "model.add(Activation('elu'))\n",
    "model.add(BatchNormalization())\n",
    "model.add(MaxPooling2D(pool_size=(2,2)))\n",
    "model.add(Dropout(0.2))"
   ]
  },
  {
   "cell_type": "code",
   "execution_count": 7,
   "metadata": {},
   "outputs": [],
   "source": [
    "model.add(Conv2D(256,(3,3),padding='same',kernel_initializer='he_normal'))\n",
    "model.add(Activation('elu'))\n",
    "model.add(BatchNormalization())\n",
    "model.add(Conv2D(256,(3,3),padding='same',kernel_initializer='he_normal'))\n",
    "model.add(Activation('elu'))\n",
    "model.add(BatchNormalization())\n",
    "model.add(MaxPooling2D(pool_size=(2,2)))\n",
    "model.add(Dropout(0.2))"
   ]
  },
  {
   "cell_type": "code",
   "execution_count": 8,
   "metadata": {},
   "outputs": [],
   "source": [
    "model.add(Flatten())\n",
    "\n",
    "model.add(Dense(64,kernel_initializer='he_normal'))\n",
    "model.add(Activation('elu'))\n",
    "model.add(BatchNormalization())\n",
    "model.add(Dropout(0.5))"
   ]
  },
  {
   "cell_type": "code",
   "execution_count": 9,
   "metadata": {},
   "outputs": [],
   "source": [
    "model.add(Dense(64,kernel_initializer='he_normal'))\n",
    "model.add(Activation('elu'))\n",
    "model.add(BatchNormalization())\n",
    "model.add(Dropout(0.5))"
   ]
  },
  {
   "cell_type": "code",
   "execution_count": 10,
   "metadata": {},
   "outputs": [],
   "source": [
    "model.add(Dense(5,kernel_initializer='he_normal'))\n",
    "model.add(Activation('softmax'))"
   ]
  },
  {
   "cell_type": "code",
   "execution_count": 11,
   "metadata": {},
   "outputs": [
    {
     "name": "stdout",
     "output_type": "stream",
     "text": [
      "Model: \"sequential\"\n",
      "_________________________________________________________________\n",
      "Layer (type)                 Output Shape              Param #   \n",
      "=================================================================\n",
      "conv2d (Conv2D)              (None, 48, 48, 32)        320       \n",
      "_________________________________________________________________\n",
      "activation (Activation)      (None, 48, 48, 32)        0         \n",
      "_________________________________________________________________\n",
      "batch_normalization (BatchNo (None, 48, 48, 32)        128       \n",
      "_________________________________________________________________\n",
      "conv2d_1 (Conv2D)            (None, 48, 48, 32)        9248      \n",
      "_________________________________________________________________\n",
      "activation_1 (Activation)    (None, 48, 48, 32)        0         \n",
      "_________________________________________________________________\n",
      "batch_normalization_1 (Batch (None, 48, 48, 32)        128       \n",
      "_________________________________________________________________\n",
      "max_pooling2d (MaxPooling2D) (None, 24, 24, 32)        0         \n",
      "_________________________________________________________________\n",
      "dropout (Dropout)            (None, 24, 24, 32)        0         \n",
      "_________________________________________________________________\n",
      "conv2d_2 (Conv2D)            (None, 24, 24, 64)        18496     \n",
      "_________________________________________________________________\n",
      "activation_2 (Activation)    (None, 24, 24, 64)        0         \n",
      "_________________________________________________________________\n",
      "batch_normalization_2 (Batch (None, 24, 24, 64)        256       \n",
      "_________________________________________________________________\n",
      "conv2d_3 (Conv2D)            (None, 24, 24, 64)        36928     \n",
      "_________________________________________________________________\n",
      "activation_3 (Activation)    (None, 24, 24, 64)        0         \n",
      "_________________________________________________________________\n",
      "batch_normalization_3 (Batch (None, 24, 24, 64)        256       \n",
      "_________________________________________________________________\n",
      "max_pooling2d_1 (MaxPooling2 (None, 12, 12, 64)        0         \n",
      "_________________________________________________________________\n",
      "dropout_1 (Dropout)          (None, 12, 12, 64)        0         \n",
      "_________________________________________________________________\n",
      "conv2d_4 (Conv2D)            (None, 12, 12, 128)       73856     \n",
      "_________________________________________________________________\n",
      "activation_4 (Activation)    (None, 12, 12, 128)       0         \n",
      "_________________________________________________________________\n",
      "batch_normalization_4 (Batch (None, 12, 12, 128)       512       \n",
      "_________________________________________________________________\n",
      "conv2d_5 (Conv2D)            (None, 12, 12, 128)       147584    \n",
      "_________________________________________________________________\n",
      "activation_5 (Activation)    (None, 12, 12, 128)       0         \n",
      "_________________________________________________________________\n",
      "batch_normalization_5 (Batch (None, 12, 12, 128)       512       \n",
      "_________________________________________________________________\n",
      "max_pooling2d_2 (MaxPooling2 (None, 6, 6, 128)         0         \n",
      "_________________________________________________________________\n",
      "dropout_2 (Dropout)          (None, 6, 6, 128)         0         \n",
      "_________________________________________________________________\n",
      "conv2d_6 (Conv2D)            (None, 6, 6, 256)         295168    \n",
      "_________________________________________________________________\n",
      "activation_6 (Activation)    (None, 6, 6, 256)         0         \n",
      "_________________________________________________________________\n",
      "batch_normalization_6 (Batch (None, 6, 6, 256)         1024      \n",
      "_________________________________________________________________\n",
      "conv2d_7 (Conv2D)            (None, 6, 6, 256)         590080    \n",
      "_________________________________________________________________\n",
      "activation_7 (Activation)    (None, 6, 6, 256)         0         \n",
      "_________________________________________________________________\n",
      "batch_normalization_7 (Batch (None, 6, 6, 256)         1024      \n",
      "_________________________________________________________________\n",
      "max_pooling2d_3 (MaxPooling2 (None, 3, 3, 256)         0         \n",
      "_________________________________________________________________\n",
      "dropout_3 (Dropout)          (None, 3, 3, 256)         0         \n",
      "_________________________________________________________________\n",
      "flatten (Flatten)            (None, 2304)              0         \n",
      "_________________________________________________________________\n",
      "dense (Dense)                (None, 64)                147520    \n",
      "_________________________________________________________________\n",
      "activation_8 (Activation)    (None, 64)                0         \n",
      "_________________________________________________________________\n",
      "batch_normalization_8 (Batch (None, 64)                256       \n",
      "_________________________________________________________________\n",
      "dropout_4 (Dropout)          (None, 64)                0         \n",
      "_________________________________________________________________\n",
      "dense_1 (Dense)              (None, 64)                4160      \n",
      "_________________________________________________________________\n",
      "activation_9 (Activation)    (None, 64)                0         \n",
      "_________________________________________________________________\n",
      "batch_normalization_9 (Batch (None, 64)                256       \n",
      "_________________________________________________________________\n",
      "dropout_5 (Dropout)          (None, 64)                0         \n",
      "_________________________________________________________________\n",
      "dense_2 (Dense)              (None, 5)                 325       \n",
      "_________________________________________________________________\n",
      "activation_10 (Activation)   (None, 5)                 0         \n",
      "=================================================================\n",
      "Total params: 1,328,037\n",
      "Trainable params: 1,325,861\n",
      "Non-trainable params: 2,176\n",
      "_________________________________________________________________\n",
      "None\n"
     ]
    }
   ],
   "source": [
    "print(model.summary())"
   ]
  },
  {
   "cell_type": "code",
   "execution_count": 12,
   "metadata": {},
   "outputs": [],
   "source": [
    "from keras.optimizers import RMSprop,SGD,Adam\n",
    "from keras.callbacks import ModelCheckpoint, EarlyStopping, ReduceLROnPlateau\n",
    "\n",
    "checkpoint = ModelCheckpoint('Emotion_little_vgg.h5',\n",
    "                             monitor='val_loss',\n",
    "                             mode='min',\n",
    "                             save_best_only=True,\n",
    "                             verbose=1)\n",
    "\n",
    "earlystop = EarlyStopping(monitor='val_loss',\n",
    "                          min_delta=0,\n",
    "                          patience=3,\n",
    "                          verbose=1,\n",
    "                          restore_best_weights=True\n",
    "                          )\n",
    "\n",
    "reduce_lr = ReduceLROnPlateau(monitor='val_loss',\n",
    "                              factor=0.2,\n",
    "                              patience=3,\n",
    "                              verbose=1,\n",
    "                              min_delta=0.0001)\n",
    "\n",
    "callbacks = [earlystop,checkpoint,reduce_lr]"
   ]
  },
  {
   "cell_type": "code",
   "execution_count": 13,
   "metadata": {},
   "outputs": [],
   "source": [
    "model.compile(loss='categorical_crossentropy',\n",
    "              optimizer = Adam(lr=0.001),\n",
    "              metrics=['accuracy'])"
   ]
  },
  {
   "cell_type": "code",
   "execution_count": 14,
   "metadata": {},
   "outputs": [
    {
     "name": "stdout",
     "output_type": "stream",
     "text": [
      "Epoch 1/25\n",
      "758/758 [==============================] - 417s 548ms/step - loss: 2.0794 - accuracy: 0.2287 - val_loss: 1.5741 - val_accuracy: 0.3008\n",
      "\n",
      "Epoch 00001: val_loss improved from inf to 1.57407, saving model to Emotion_little_vgg.h5\n",
      "Epoch 2/25\n",
      "758/758 [==============================] - 419s 553ms/step - loss: 1.5913 - accuracy: 0.2775 - val_loss: 1.5086 - val_accuracy: 0.3296\n",
      "\n",
      "Epoch 00002: val_loss improved from 1.57407 to 1.50861, saving model to Emotion_little_vgg.h5\n",
      "Epoch 3/25\n",
      "758/758 [==============================] - 420s 554ms/step - loss: 1.5229 - accuracy: 0.3198 - val_loss: 1.3879 - val_accuracy: 0.4117\n",
      "\n",
      "Epoch 00003: val_loss improved from 1.50861 to 1.38789, saving model to Emotion_little_vgg.h5\n",
      "Epoch 4/25\n",
      "758/758 [==============================] - 421s 555ms/step - loss: 1.4378 - accuracy: 0.3768 - val_loss: 1.2414 - val_accuracy: 0.4821\n",
      "\n",
      "Epoch 00004: val_loss improved from 1.38789 to 1.24140, saving model to Emotion_little_vgg.h5\n",
      "Epoch 5/25\n",
      "758/758 [==============================] - 420s 554ms/step - loss: 1.3443 - accuracy: 0.4392 - val_loss: 1.2520 - val_accuracy: 0.5101\n",
      "\n",
      "Epoch 00005: val_loss did not improve from 1.24140\n",
      "Epoch 6/25\n",
      "758/758 [==============================] - 450s 593ms/step - loss: 1.2648 - accuracy: 0.4834 - val_loss: 1.0518 - val_accuracy: 0.5652\n",
      "\n",
      "Epoch 00006: val_loss improved from 1.24140 to 1.05177, saving model to Emotion_little_vgg.h5\n",
      "Epoch 7/25\n",
      "758/758 [==============================] - 416s 549ms/step - loss: 1.1975 - accuracy: 0.5143 - val_loss: 1.0607 - val_accuracy: 0.5633\n",
      "\n",
      "Epoch 00007: val_loss did not improve from 1.05177\n",
      "Epoch 8/25\n",
      "758/758 [==============================] - 474s 626ms/step - loss: 1.1473 - accuracy: 0.5341 - val_loss: 1.0059 - val_accuracy: 0.6069\n",
      "\n",
      "Epoch 00008: val_loss improved from 1.05177 to 1.00591, saving model to Emotion_little_vgg.h5\n",
      "Epoch 9/25\n",
      "758/758 [==============================] - 568s 750ms/step - loss: 1.1120 - accuracy: 0.5627 - val_loss: 0.9936 - val_accuracy: 0.6130\n",
      "\n",
      "Epoch 00009: val_loss improved from 1.00591 to 0.99356, saving model to Emotion_little_vgg.h5\n",
      "Epoch 10/25\n",
      "758/758 [==============================] - 583s 769ms/step - loss: 1.0889 - accuracy: 0.5667 - val_loss: 0.9696 - val_accuracy: 0.6145\n",
      "\n",
      "Epoch 00010: val_loss improved from 0.99356 to 0.96964, saving model to Emotion_little_vgg.h5\n",
      "Epoch 11/25\n",
      "758/758 [==============================] - 568s 750ms/step - loss: 1.0690 - accuracy: 0.5770 - val_loss: 0.9912 - val_accuracy: 0.6149\n",
      "\n",
      "Epoch 00011: val_loss did not improve from 0.96964\n",
      "Epoch 12/25\n",
      "758/758 [==============================] - 560s 739ms/step - loss: 1.0407 - accuracy: 0.5896 - val_loss: 0.8937 - val_accuracy: 0.6468\n",
      "\n",
      "Epoch 00012: val_loss improved from 0.96964 to 0.89366, saving model to Emotion_little_vgg.h5\n",
      "Epoch 13/25\n",
      "758/758 [==============================] - 587s 774ms/step - loss: 1.0338 - accuracy: 0.5969 - val_loss: 0.8693 - val_accuracy: 0.6635\n",
      "\n",
      "Epoch 00013: val_loss improved from 0.89366 to 0.86927, saving model to Emotion_little_vgg.h5\n",
      "Epoch 14/25\n",
      "758/758 [==============================] - 551s 726ms/step - loss: 1.0042 - accuracy: 0.6121 - val_loss: 0.8636 - val_accuracy: 0.6640\n",
      "\n",
      "Epoch 00014: val_loss improved from 0.86927 to 0.86356, saving model to Emotion_little_vgg.h5\n",
      "Epoch 15/25\n",
      "758/758 [==============================] - 517s 682ms/step - loss: 1.0070 - accuracy: 0.6143 - val_loss: 0.8783 - val_accuracy: 0.6635\n",
      "\n",
      "Epoch 00015: val_loss did not improve from 0.86356\n",
      "Epoch 16/25\n",
      "758/758 [==============================] - 545s 720ms/step - loss: 0.9904 - accuracy: 0.6210 - val_loss: 0.8349 - val_accuracy: 0.6708\n",
      "\n",
      "Epoch 00016: val_loss improved from 0.86356 to 0.83486, saving model to Emotion_little_vgg.h5\n",
      "Epoch 17/25\n",
      "758/758 [==============================] - 459s 605ms/step - loss: 0.9834 - accuracy: 0.6196 - val_loss: 0.8356 - val_accuracy: 0.6745\n",
      "\n",
      "Epoch 00017: val_loss did not improve from 0.83486\n",
      "Epoch 18/25\n",
      "758/758 [==============================] - 421s 556ms/step - loss: 0.9749 - accuracy: 0.6262 - val_loss: 0.8260 - val_accuracy: 0.6757\n",
      "\n",
      "Epoch 00018: val_loss improved from 0.83486 to 0.82598, saving model to Emotion_little_vgg.h5\n",
      "Epoch 19/25\n",
      "758/758 [==============================] - 423s 558ms/step - loss: 0.9539 - accuracy: 0.6318 - val_loss: 0.8089 - val_accuracy: 0.6889\n",
      "\n",
      "Epoch 00019: val_loss improved from 0.82598 to 0.80893, saving model to Emotion_little_vgg.h5\n",
      "Epoch 20/25\n",
      "758/758 [==============================] - 424s 560ms/step - loss: 0.9563 - accuracy: 0.6354 - val_loss: 0.8650 - val_accuracy: 0.6534\n",
      "\n",
      "Epoch 00020: val_loss did not improve from 0.80893\n",
      "Epoch 21/25\n",
      "758/758 [==============================] - 429s 567ms/step - loss: 0.9525 - accuracy: 0.6362 - val_loss: 0.8198 - val_accuracy: 0.6794\n",
      "\n",
      "Epoch 00021: val_loss did not improve from 0.80893\n",
      "Epoch 22/25\n",
      "758/758 [==============================] - 423s 558ms/step - loss: 0.9405 - accuracy: 0.6341 - val_loss: 0.8155 - val_accuracy: 0.6804\n",
      "Restoring model weights from the end of the best epoch.\n",
      "\n",
      "Epoch 00022: val_loss did not improve from 0.80893\n",
      "\n",
      "Epoch 00022: ReduceLROnPlateau reducing learning rate to 0.00020000000949949026.\n",
      "Epoch 00022: early stopping\n"
     ]
    }
   ],
   "source": [
    "history=model.fit(\n",
    "                train,\n",
    "                steps_per_epoch=train.samples//32,\n",
    "                epochs=25,\n",
    "                callbacks=callbacks,\n",
    "                validation_data=val,\n",
    "                validation_steps=val.samples//32)"
   ]
  },
  {
   "cell_type": "code",
   "execution_count": null,
   "metadata": {},
   "outputs": [],
   "source": []
  }
 ],
 "metadata": {
  "kernelspec": {
   "display_name": "Python 3",
   "language": "python",
   "name": "python3"
  },
  "language_info": {
   "codemirror_mode": {
    "name": "ipython",
    "version": 3
   },
   "file_extension": ".py",
   "mimetype": "text/x-python",
   "name": "python",
   "nbconvert_exporter": "python",
   "pygments_lexer": "ipython3",
   "version": "3.8.5"
  }
 },
 "nbformat": 4,
 "nbformat_minor": 4
}
