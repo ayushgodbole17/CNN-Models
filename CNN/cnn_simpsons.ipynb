{
 "cells": [
  {
   "cell_type": "code",
   "execution_count": 1,
   "metadata": {},
   "outputs": [],
   "source": [
    "import tensorflow as tf\n",
    "import keras\n",
    "from tensorflow.keras.preprocessing.image import ImageDataGenerator\n",
    "from keras.models import Sequential\n",
    "from keras.layers import Dense,Dropout,Activation,Flatten,BatchNormalization\n",
    "from keras.layers import Conv2D,MaxPooling2D \n",
    "import numpy as np\n",
    "\n",
    "#dataset - https://www.kaggle.com/alexattia/the-simpsons-characters-dataset"
   ]
  },
  {
   "cell_type": "code",
   "execution_count": 2,
   "metadata": {},
   "outputs": [],
   "source": [
    "training_datagen = ImageDataGenerator(rescale=1./255,\n",
    "                                      horizontal_flip=True,\n",
    "                                      vertical_flip=True,\n",
    "                                      shear_range=0.2,\n",
    "                                      zoom_range=0.2,\n",
    "                                      height_shift_range=0.2,\n",
    "                                      width_shift_range=0.2,\n",
    "                                      validation_split=0.1)"
   ]
  },
  {
   "cell_type": "code",
   "execution_count": 3,
   "metadata": {},
   "outputs": [
    {
     "name": "stdout",
     "output_type": "stream",
     "text": [
      "Found 18860 images belonging to 47 classes.\n",
      "Found 2073 images belonging to 47 classes.\n"
     ]
    }
   ],
   "source": [
    "train_path = \"/home/tony_stark/JARVIS/Datasets/Simpsons/simpsons_train\"\n",
    "test_path = \"/home/tony_stark/JARVIS/Datasets/Simpsons/simpsons_test\"\n",
    "\n",
    "\n",
    "train = training_datagen.flow_from_directory(train_path, \n",
    "                                            target_size = (256, 256),\n",
    "                                            color_mode='rgb',\n",
    "                                            class_mode='categorical',\n",
    "                                            batch_size=32,\n",
    "                                            subset='training')\n",
    "\n",
    "\n",
    "val = training_datagen.flow_from_directory(train_path, \n",
    "                                            target_size = (256, 256),\n",
    "                                            color_mode='rgb',\n",
    "                                            class_mode='categorical',\n",
    "                                            batch_size=32,\n",
    "                                            subset='validation')"
   ]
  },
  {
   "cell_type": "code",
   "execution_count": 4,
   "metadata": {},
   "outputs": [],
   "source": [
    "cnn = tf.keras.models.Sequential()\n",
    "\n",
    "\n",
    "\n",
    "cnn.add(tf.keras.layers.Conv2D(filters=32, kernel_size=3, activation='relu', padding='same',\n",
    "                               input_shape=[256, 256, 3]))\n",
    "cnn.add(BatchNormalization())\n",
    "cnn.add(tf.keras.layers.MaxPool2D(pool_size=2))\n",
    "cnn.add(Dropout(0.2))\n",
    "\n",
    "\n",
    "cnn.add(tf.keras.layers.Conv2D(filters=64, kernel_size=3, activation='relu'))\n",
    "cnn.add(BatchNormalization())\n",
    "cnn.add(tf.keras.layers.MaxPool2D(pool_size=2))\n",
    "cnn.add(Dropout(0.2))\n",
    "\n",
    "\n",
    "cnn.add(tf.keras.layers.Conv2D(filters=128, kernel_size=3, activation='relu',padding='same'))\n",
    "cnn.add(BatchNormalization())\n",
    "cnn.add(tf.keras.layers.MaxPool2D(pool_size=2))\n",
    "cnn.add(Dropout(0.2))\n",
    "\n",
    "\n",
    "cnn.add(tf.keras.layers.Flatten())\n",
    "\n",
    "\n",
    "cnn.add(tf.keras.layers.Dense(188, activation='relu'))\n",
    "cnn.add(tf.keras.layers.Dense(94, activation='relu'))\n",
    "cnn.add(tf.keras.layers.Dense(47, activation='softmax'))"
   ]
  },
  {
   "cell_type": "code",
   "execution_count": 5,
   "metadata": {},
   "outputs": [
    {
     "name": "stdout",
     "output_type": "stream",
     "text": [
      "Model: \"sequential\"\n",
      "_________________________________________________________________\n",
      "Layer (type)                 Output Shape              Param #   \n",
      "=================================================================\n",
      "conv2d (Conv2D)              (None, 256, 256, 32)      896       \n",
      "_________________________________________________________________\n",
      "batch_normalization (BatchNo (None, 256, 256, 32)      128       \n",
      "_________________________________________________________________\n",
      "max_pooling2d (MaxPooling2D) (None, 128, 128, 32)      0         \n",
      "_________________________________________________________________\n",
      "dropout (Dropout)            (None, 128, 128, 32)      0         \n",
      "_________________________________________________________________\n",
      "conv2d_1 (Conv2D)            (None, 126, 126, 64)      18496     \n",
      "_________________________________________________________________\n",
      "batch_normalization_1 (Batch (None, 126, 126, 64)      256       \n",
      "_________________________________________________________________\n",
      "max_pooling2d_1 (MaxPooling2 (None, 63, 63, 64)        0         \n",
      "_________________________________________________________________\n",
      "dropout_1 (Dropout)          (None, 63, 63, 64)        0         \n",
      "_________________________________________________________________\n",
      "conv2d_2 (Conv2D)            (None, 63, 63, 128)       73856     \n",
      "_________________________________________________________________\n",
      "batch_normalization_2 (Batch (None, 63, 63, 128)       512       \n",
      "_________________________________________________________________\n",
      "max_pooling2d_2 (MaxPooling2 (None, 31, 31, 128)       0         \n",
      "_________________________________________________________________\n",
      "dropout_2 (Dropout)          (None, 31, 31, 128)       0         \n",
      "_________________________________________________________________\n",
      "flatten (Flatten)            (None, 123008)            0         \n",
      "_________________________________________________________________\n",
      "dense (Dense)                (None, 188)               23125692  \n",
      "_________________________________________________________________\n",
      "dense_1 (Dense)              (None, 94)                17766     \n",
      "_________________________________________________________________\n",
      "dense_2 (Dense)              (None, 47)                4465      \n",
      "=================================================================\n",
      "Total params: 23,242,067\n",
      "Trainable params: 23,241,619\n",
      "Non-trainable params: 448\n",
      "_________________________________________________________________\n"
     ]
    }
   ],
   "source": [
    "cnn.summary()"
   ]
  },
  {
   "cell_type": "code",
   "execution_count": 6,
   "metadata": {},
   "outputs": [
    {
     "name": "stdout",
     "output_type": "stream",
     "text": [
      "Epoch 1/5\n",
      "590/590 [==============================] - 2451s 4s/step - loss: 5.9060 - accuracy: 0.0743 - val_loss: 3.7473 - val_accuracy: 0.0844\n",
      "Epoch 2/5\n",
      "590/590 [==============================] - 2469s 4s/step - loss: 3.1472 - accuracy: 0.1058 - val_loss: 3.1179 - val_accuracy: 0.1085\n",
      "Epoch 3/5\n",
      "590/590 [==============================] - 2452s 4s/step - loss: 3.0895 - accuracy: 0.1132 - val_loss: 3.2050 - val_accuracy: 0.0767\n",
      "Epoch 4/5\n",
      "590/590 [==============================] - 2475s 4s/step - loss: 3.0747 - accuracy: 0.1127 - val_loss: 3.0960 - val_accuracy: 0.1192\n",
      "Epoch 5/5\n",
      "590/590 [==============================] - 2451s 4s/step - loss: 3.0350 - accuracy: 0.1315 - val_loss: 3.0503 - val_accuracy: 0.1220\n"
     ]
    }
   ],
   "source": [
    "cnn.compile(optimizer='adam', loss='categorical_crossentropy', metrics=['accuracy'])\n",
    "\n",
    "history = cnn.fit(train, validation_data = val, epochs=5)"
   ]
  },
  {
   "cell_type": "code",
   "execution_count": null,
   "metadata": {},
   "outputs": [],
   "source": []
  }
 ],
 "metadata": {
  "kernelspec": {
   "display_name": "Python 3",
   "language": "python",
   "name": "python3"
  },
  "language_info": {
   "codemirror_mode": {
    "name": "ipython",
    "version": 3
   },
   "file_extension": ".py",
   "mimetype": "text/x-python",
   "name": "python",
   "nbconvert_exporter": "python",
   "pygments_lexer": "ipython3",
   "version": "3.8.5"
  }
 },
 "nbformat": 4,
 "nbformat_minor": 4
}
