{
 "cells": [
  {
   "cell_type": "code",
   "execution_count": 20,
   "metadata": {},
   "outputs": [],
   "source": [
    "import numpy as np\n",
    "import pandas as pd\n",
    "import matplotlib.pyplot as plt\n",
    "from sklearn.preprocessing import MinMaxScaler\n",
    "import tensorflow.keras as keras\n",
    "from tensorflow.keras.models import Sequential\n",
    "from tensorflow.keras.layers import Dense\n",
    "from tensorflow.keras.layers import LSTM\n",
    "from tensorflow.keras.layers import Dropout"
   ]
  },
  {
   "cell_type": "code",
   "execution_count": 21,
   "metadata": {},
   "outputs": [],
   "source": [
    "df = pd.read_csv(\"Google_Stock_Price_Train.csv\")"
   ]
  },
  {
   "cell_type": "code",
   "execution_count": 22,
   "metadata": {},
   "outputs": [],
   "source": [
    "training_set = df.iloc[:, 1:2].values "
   ]
  },
  {
   "cell_type": "code",
   "execution_count": 23,
   "metadata": {},
   "outputs": [],
   "source": [
    "sc = MinMaxScaler(feature_range = (0,1))"
   ]
  },
  {
   "cell_type": "code",
   "execution_count": 24,
   "metadata": {},
   "outputs": [],
   "source": [
    "train_scaled = sc.fit_transform(training_set)"
   ]
  },
  {
   "cell_type": "code",
   "execution_count": 25,
   "metadata": {},
   "outputs": [],
   "source": [
    "xtr = []\n",
    "ytr = []\n",
    "\n",
    "for i in range(120, 1258):\n",
    "    xtr.append(train_scaled[i-120:i, 0])\n",
    "    ytr.append(train_scaled[i, 0])"
   ]
  },
  {
   "cell_type": "code",
   "execution_count": 26,
   "metadata": {},
   "outputs": [],
   "source": [
    "xtr, ytr = np.array(xtr), np.array(ytr)"
   ]
  },
  {
   "cell_type": "code",
   "execution_count": 27,
   "metadata": {},
   "outputs": [],
   "source": [
    "xtr = np.reshape(xtr, (xtr.shape[0], xtr.shape[1], 1))"
   ]
  },
  {
   "cell_type": "code",
   "execution_count": 28,
   "metadata": {},
   "outputs": [],
   "source": [
    "regressor = Sequential()"
   ]
  },
  {
   "cell_type": "code",
   "execution_count": 29,
   "metadata": {},
   "outputs": [],
   "source": [
    "regressor.add(LSTM(units = 100, return_sequences = True, input_shape = (xtr.shape[1], 1)))\n",
    "regressor.add(Dropout(0.2))"
   ]
  },
  {
   "cell_type": "code",
   "execution_count": 30,
   "metadata": {},
   "outputs": [],
   "source": [
    "regressor.add(LSTM(units = 100, return_sequences = True))\n",
    "regressor.add(Dropout(0.2))"
   ]
  },
  {
   "cell_type": "code",
   "execution_count": 31,
   "metadata": {},
   "outputs": [],
   "source": [
    "regressor.add(LSTM(units = 100, return_sequences = True))\n",
    "regressor.add(Dropout(0.2))"
   ]
  },
  {
   "cell_type": "code",
   "execution_count": 32,
   "metadata": {},
   "outputs": [],
   "source": [
    "regressor.add(LSTM(units = 100, return_sequences = True))\n",
    "regressor.add(Dropout(0.2))"
   ]
  },
  {
   "cell_type": "code",
   "execution_count": 33,
   "metadata": {},
   "outputs": [],
   "source": [
    "regressor.add(LSTM(units = 100))\n",
    "regressor.add(Dropout(0.2))"
   ]
  },
  {
   "cell_type": "code",
   "execution_count": 34,
   "metadata": {},
   "outputs": [],
   "source": [
    "regressor.add(Dense(units = 1))"
   ]
  },
  {
   "cell_type": "code",
   "execution_count": 35,
   "metadata": {},
   "outputs": [],
   "source": [
    "regressor.compile(optimizer = 'adam', loss = 'mean_squared_error')"
   ]
  },
  {
   "cell_type": "code",
   "execution_count": 36,
   "metadata": {},
   "outputs": [
    {
     "name": "stdout",
     "output_type": "stream",
     "text": [
      "Epoch 1/100\n",
      "36/36 [==============================] - 24s 472ms/step - loss: 0.1249\n",
      "Epoch 2/100\n",
      "36/36 [==============================] - 17s 455ms/step - loss: 0.0083\n",
      "Epoch 3/100\n",
      "36/36 [==============================] - 19s 533ms/step - loss: 0.0054\n",
      "Epoch 4/100\n",
      "36/36 [==============================] - 23s 630ms/step - loss: 0.0038\n",
      "Epoch 5/100\n",
      "36/36 [==============================] - 32s 895ms/step - loss: 0.0046\n",
      "Epoch 6/100\n",
      "36/36 [==============================] - 23s 651ms/step - loss: 0.0035\n",
      "Epoch 7/100\n",
      "36/36 [==============================] - 19s 526ms/step - loss: 0.0038\n",
      "Epoch 8/100\n",
      "36/36 [==============================] - 16s 450ms/step - loss: 0.0040\n",
      "Epoch 9/100\n",
      "36/36 [==============================] - 18s 501ms/step - loss: 0.0038\n",
      "Epoch 10/100\n",
      "36/36 [==============================] - 16s 451ms/step - loss: 0.0042\n",
      "Epoch 11/100\n",
      "36/36 [==============================] - 17s 462ms/step - loss: 0.0041\n",
      "Epoch 12/100\n",
      "36/36 [==============================] - 16s 431ms/step - loss: 0.0038\n",
      "Epoch 13/100\n",
      "36/36 [==============================] - 17s 478ms/step - loss: 0.0032\n",
      "Epoch 14/100\n",
      "36/36 [==============================] - 16s 441ms/step - loss: 0.0033\n",
      "Epoch 15/100\n",
      "36/36 [==============================] - 16s 450ms/step - loss: 0.0035\n",
      "Epoch 16/100\n",
      "36/36 [==============================] - 15s 425ms/step - loss: 0.0039\n",
      "Epoch 17/100\n",
      "36/36 [==============================] - 15s 412ms/step - loss: 0.0032\n",
      "Epoch 18/100\n",
      "36/36 [==============================] - 15s 405ms/step - loss: 0.0039\n",
      "Epoch 19/100\n",
      "36/36 [==============================] - 15s 410ms/step - loss: 0.0031\n",
      "Epoch 20/100\n",
      "36/36 [==============================] - 15s 405ms/step - loss: 0.0032\n",
      "Epoch 21/100\n",
      "36/36 [==============================] - 15s 406ms/step - loss: 0.0038\n",
      "Epoch 22/100\n",
      "36/36 [==============================] - 15s 404ms/step - loss: 0.0036\n",
      "Epoch 23/100\n",
      "36/36 [==============================] - 15s 430ms/step - loss: 0.0030\n",
      "Epoch 24/100\n",
      "36/36 [==============================] - 14s 402ms/step - loss: 0.0030\n",
      "Epoch 25/100\n",
      "36/36 [==============================] - 15s 409ms/step - loss: 0.0032\n",
      "Epoch 26/100\n",
      "36/36 [==============================] - 15s 404ms/step - loss: 0.0025\n",
      "Epoch 27/100\n",
      "36/36 [==============================] - 15s 406ms/step - loss: 0.0030\n",
      "Epoch 28/100\n",
      "36/36 [==============================] - 15s 407ms/step - loss: 0.0026\n",
      "Epoch 29/100\n",
      "36/36 [==============================] - 15s 412ms/step - loss: 0.0026\n",
      "Epoch 30/100\n",
      "36/36 [==============================] - 15s 405ms/step - loss: 0.0029\n",
      "Epoch 31/100\n",
      "36/36 [==============================] - 15s 406ms/step - loss: 0.0032\n",
      "Epoch 32/100\n",
      "36/36 [==============================] - 15s 405ms/step - loss: 0.0031\n",
      "Epoch 33/100\n",
      "36/36 [==============================] - 15s 406ms/step - loss: 0.0026\n",
      "Epoch 34/100\n",
      "36/36 [==============================] - 15s 406ms/step - loss: 0.0036\n",
      "Epoch 35/100\n",
      "36/36 [==============================] - 15s 404ms/step - loss: 0.0028\n",
      "Epoch 36/100\n",
      "36/36 [==============================] - 15s 407ms/step - loss: 0.0022\n",
      "Epoch 37/100\n",
      "36/36 [==============================] - 16s 441ms/step - loss: 0.0025\n",
      "Epoch 38/100\n",
      "36/36 [==============================] - 19s 517ms/step - loss: 0.0020\n",
      "Epoch 39/100\n",
      "36/36 [==============================] - 18s 501ms/step - loss: 0.0026\n",
      "Epoch 40/100\n",
      "36/36 [==============================] - 15s 424ms/step - loss: 0.0024\n",
      "Epoch 41/100\n",
      "36/36 [==============================] - 15s 426ms/step - loss: 0.0023\n",
      "Epoch 42/100\n",
      "36/36 [==============================] - 15s 423ms/step - loss: 0.0021\n",
      "Epoch 43/100\n",
      "36/36 [==============================] - 15s 426ms/step - loss: 0.0023\n",
      "Epoch 44/100\n",
      "36/36 [==============================] - 15s 422ms/step - loss: 0.0023\n",
      "Epoch 45/100\n",
      "36/36 [==============================] - 15s 426ms/step - loss: 0.0023\n",
      "Epoch 46/100\n",
      "36/36 [==============================] - 15s 421ms/step - loss: 0.0020\n",
      "Epoch 47/100\n",
      "36/36 [==============================] - 15s 423ms/step - loss: 0.0020\n",
      "Epoch 48/100\n",
      "36/36 [==============================] - 15s 420ms/step - loss: 0.0022\n",
      "Epoch 49/100\n",
      "36/36 [==============================] - 16s 444ms/step - loss: 0.0023\n",
      "Epoch 50/100\n",
      "36/36 [==============================] - 15s 429ms/step - loss: 0.0023\n",
      "Epoch 51/100\n",
      "36/36 [==============================] - 16s 428ms/step - loss: 0.0021\n",
      "Epoch 52/100\n",
      "36/36 [==============================] - 15s 422ms/step - loss: 0.0023\n",
      "Epoch 53/100\n",
      "36/36 [==============================] - 15s 424ms/step - loss: 0.0026\n",
      "Epoch 54/100\n",
      "36/36 [==============================] - 15s 420ms/step - loss: 0.0017\n",
      "Epoch 55/100\n",
      "36/36 [==============================] - 15s 424ms/step - loss: 0.0019\n",
      "Epoch 56/100\n",
      "36/36 [==============================] - 15s 421ms/step - loss: 0.0018\n",
      "Epoch 57/100\n",
      "36/36 [==============================] - 15s 424ms/step - loss: 0.0019\n",
      "Epoch 58/100\n",
      "36/36 [==============================] - 15s 420ms/step - loss: 0.0022\n",
      "Epoch 59/100\n",
      "36/36 [==============================] - 15s 422ms/step - loss: 0.0019\n",
      "Epoch 60/100\n",
      "36/36 [==============================] - 16s 436ms/step - loss: 0.0021\n",
      "Epoch 61/100\n",
      "36/36 [==============================] - 17s 487ms/step - loss: 0.0020\n",
      "Epoch 62/100\n",
      "36/36 [==============================] - 21s 580ms/step - loss: 0.0018\n",
      "Epoch 63/100\n",
      "36/36 [==============================] - 19s 520ms/step - loss: 0.0020\n",
      "Epoch 64/100\n",
      "36/36 [==============================] - 19s 515ms/step - loss: 0.0018\n",
      "Epoch 65/100\n",
      "36/36 [==============================] - 18s 513ms/step - loss: 0.0015\n",
      "Epoch 66/100\n",
      "36/36 [==============================] - 19s 514ms/step - loss: 0.0016\n",
      "Epoch 67/100\n",
      "36/36 [==============================] - 18s 513ms/step - loss: 0.0015\n",
      "Epoch 68/100\n",
      "36/36 [==============================] - 19s 516ms/step - loss: 0.0015\n",
      "Epoch 69/100\n",
      "36/36 [==============================] - 18s 505ms/step - loss: 0.0018\n",
      "Epoch 70/100\n",
      "36/36 [==============================] - 18s 505ms/step - loss: 0.0014\n",
      "Epoch 71/100\n",
      "36/36 [==============================] - 18s 508ms/step - loss: 0.0018\n",
      "Epoch 72/100\n",
      "36/36 [==============================] - 18s 507ms/step - loss: 0.0016\n",
      "Epoch 73/100\n",
      "36/36 [==============================] - 18s 506ms/step - loss: 0.0015\n",
      "Epoch 74/100\n",
      "36/36 [==============================] - 18s 509ms/step - loss: 0.0017\n",
      "Epoch 75/100\n",
      "36/36 [==============================] - 18s 502ms/step - loss: 0.0017\n",
      "Epoch 76/100\n",
      "36/36 [==============================] - 18s 508ms/step - loss: 0.0016\n",
      "Epoch 77/100\n",
      "36/36 [==============================] - 18s 504ms/step - loss: 0.0016\n",
      "Epoch 78/100\n",
      "36/36 [==============================] - 18s 504ms/step - loss: 0.0016\n",
      "Epoch 79/100\n",
      "36/36 [==============================] - 18s 506ms/step - loss: 0.0017\n",
      "Epoch 80/100\n",
      "36/36 [==============================] - 18s 512ms/step - loss: 0.0012\n",
      "Epoch 81/100\n",
      "36/36 [==============================] - 18s 513ms/step - loss: 0.0018\n",
      "Epoch 82/100\n",
      "36/36 [==============================] - 18s 503ms/step - loss: 0.0015\n",
      "Epoch 83/100\n",
      "36/36 [==============================] - 18s 506ms/step - loss: 0.0020\n",
      "Epoch 84/100\n",
      "36/36 [==============================] - 18s 503ms/step - loss: 0.0014\n",
      "Epoch 85/100\n",
      "36/36 [==============================] - 18s 495ms/step - loss: 0.0013\n",
      "Epoch 86/100\n",
      "36/36 [==============================] - 19s 516ms/step - loss: 0.0013\n",
      "Epoch 87/100\n",
      "36/36 [==============================] - 18s 492ms/step - loss: 0.0014\n",
      "Epoch 88/100\n",
      "36/36 [==============================] - 18s 503ms/step - loss: 0.0017\n",
      "Epoch 89/100\n",
      "36/36 [==============================] - 18s 503ms/step - loss: 0.0017\n",
      "Epoch 90/100\n",
      "36/36 [==============================] - 18s 501ms/step - loss: 0.0016\n",
      "Epoch 91/100\n",
      "36/36 [==============================] - 18s 514ms/step - loss: 0.0017\n",
      "Epoch 92/100\n",
      "36/36 [==============================] - 18s 507ms/step - loss: 0.0015\n",
      "Epoch 93/100\n",
      "36/36 [==============================] - 18s 508ms/step - loss: 0.0012\n",
      "Epoch 94/100\n",
      "36/36 [==============================] - 18s 500ms/step - loss: 0.0012\n",
      "Epoch 95/100\n",
      "36/36 [==============================] - 18s 500ms/step - loss: 0.0013\n",
      "Epoch 96/100\n",
      "36/36 [==============================] - 18s 503ms/step - loss: 0.0015\n",
      "Epoch 97/100\n",
      "36/36 [==============================] - 18s 508ms/step - loss: 0.0015\n",
      "Epoch 98/100\n"
     ]
    },
    {
     "name": "stdout",
     "output_type": "stream",
     "text": [
      "36/36 [==============================] - 18s 499ms/step - loss: 0.0014\n",
      "Epoch 99/100\n",
      "36/36 [==============================] - 18s 505ms/step - loss: 0.0014\n",
      "Epoch 100/100\n",
      "36/36 [==============================] - 18s 502ms/step - loss: 0.0015\n"
     ]
    },
    {
     "data": {
      "text/plain": [
       "<tensorflow.python.keras.callbacks.History at 0x7fc01a3e1940>"
      ]
     },
     "execution_count": 36,
     "metadata": {},
     "output_type": "execute_result"
    }
   ],
   "source": [
    "regressor.fit(xtr, ytr, epochs = 100, batch_size = 32)"
   ]
  },
  {
   "cell_type": "code",
   "execution_count": 37,
   "metadata": {},
   "outputs": [],
   "source": [
    "dataset_test = pd.read_csv('Google_Stock_Price_Test.csv')\n",
    "real_stock_price = dataset_test.iloc[:, 1:2].values"
   ]
  },
  {
   "cell_type": "code",
   "execution_count": 38,
   "metadata": {},
   "outputs": [
    {
     "name": "stdout",
     "output_type": "stream",
     "text": [
      "WARNING:tensorflow:Model was constructed with shape (None, 120, 1) for input KerasTensor(type_spec=TensorSpec(shape=(None, 120, 1), dtype=tf.float32, name='lstm_4_input'), name='lstm_4_input', description=\"created by layer 'lstm_4_input'\"), but it was called on an input with incompatible shape (None, 60, 1).\n"
     ]
    }
   ],
   "source": [
    "dataset_total = pd.concat((df['Open'], dataset_test['Open']), axis = 0)\n",
    "inputs = dataset_total[len(dataset_total) - len(dataset_test) - 60:].values\n",
    "inputs = inputs.reshape(-1,1)\n",
    "inputs = sc.transform(inputs)\n",
    "X_test = []\n",
    "for i in range(60, 80):\n",
    "    X_test.append(inputs[i-60:i, 0])\n",
    "X_test = np.array(X_test)\n",
    "X_test = np.reshape(X_test, (X_test.shape[0], X_test.shape[1], 1))\n",
    "predicted_stock_price = regressor.predict(X_test)\n",
    "predicted_stock_price = sc.inverse_transform(predicted_stock_price)"
   ]
  },
  {
   "cell_type": "code",
   "execution_count": 39,
   "metadata": {},
   "outputs": [
    {
     "data": {
      "image/png": "[encoded data removed]",
      "text/plain": [
       "<Figure size 432x288 with 1 Axes>"
      ]
     },
     "metadata": {
      "needs_background": "light"
     },
     "output_type": "display_data"
    }
   ],
   "source": [
    "plt.plot(real_stock_price, color = 'red', label = 'Real Google Stock Price')\n",
    "plt.plot(predicted_stock_price, color = 'blue', label = 'Predicted Google Stock Price')\n",
    "plt.title('Google Stock Price Prediction')\n",
    "plt.xlabel('Time')\n",
    "plt.ylabel('Google Stock Price')\n",
    "plt.legend()\n",
    "plt.show()"
   ]
  },
  {
   "cell_type": "code",
   "execution_count": null,
   "metadata": {},
   "outputs": [],
   "source": []
  }
 ],
 "metadata": {
  "kernelspec": {
   "display_name": "Python 3",
   "language": "python",
   "name": "python3"
  },
  "language_info": {
   "codemirror_mode": {
    "name": "ipython",
    "version": 3
   },
   "file_extension": ".py",
   "mimetype": "text/x-python",
   "name": "python",
   "nbconvert_exporter": "python",
   "pygments_lexer": "ipython3",
   "version": "3.8.5"
  }
 },
 "nbformat": 4,
 "nbformat_minor": 4
}
